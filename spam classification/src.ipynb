{
  "nbformat": 4,
  "nbformat_minor": 0,
  "metadata": {
    "colab": {
      "name": "spam project.ipynb",
      "provenance": [],
      "collapsed_sections": []
    },
    "kernelspec": {
      "name": "python3",
      "display_name": "Python 3"
    },
    "language_info": {
      "name": "python"
    }
  },
  "cells": [
    {
      "cell_type": "code",
      "metadata": {
        "id": "8H8fOp6sSXfA"
      },
      "source": [
        "import pandas as pd\n",
        "from sklearn.feature_extraction.text import CountVectorizer , TfidfVectorizer\n",
        "from sklearn.model_selection import train_test_split\n",
        "from sklearn.linear_model import LogisticRegression"
      ],
      "execution_count": 9,
      "outputs": []
    },
    {
      "cell_type": "code",
      "metadata": {
        "id": "-OiYbzfirzn1"
      },
      "source": [
        "data = pd.read_csv('/content/spam.csv',encoding = 'ISO-8859-1')"
      ],
      "execution_count": 11,
      "outputs": []
    },
    {
      "cell_type": "code",
      "metadata": {
        "id": "5_bTDHJHS6ow"
      },
      "source": [
        "data.drop(['Unnamed: 2','Unnamed: 3','Unnamed: 4'],axis = 1,inplace=True)"
      ],
      "execution_count": 12,
      "outputs": []
    },
    {
      "cell_type": "code",
      "metadata": {
        "id": "bH9TsDvHTJ1w"
      },
      "source": [
        "data.columns = ['label','content']"
      ],
      "execution_count": 13,
      "outputs": []
    },
    {
      "cell_type": "code",
      "metadata": {
        "colab": {
          "base_uri": "https://localhost:8080/"
        },
        "id": "1L2t5f8nOuC2",
        "outputId": "7f79dcab-5cd2-4d7b-8b7b-3169f914accb"
      },
      "source": [
        "print(data.iloc[2])"
      ],
      "execution_count": 14,
      "outputs": [
        {
          "output_type": "stream",
          "text": [
            "label                                                   spam\n",
            "content    Free entry in 2 a wkly comp to win FA Cup fina...\n",
            "Name: 2, dtype: object\n"
          ],
          "name": "stdout"
        }
      ]
    },
    {
      "cell_type": "code",
      "metadata": {
        "id": "m5HkhxImS7NG"
      },
      "source": [
        "data['content'] = data['content'].apply(lambda x : x.lower())"
      ],
      "execution_count": 15,
      "outputs": []
    },
    {
      "cell_type": "code",
      "metadata": {
        "id": "6Hn4zmqQU9QY"
      },
      "source": [
        "X_train , X_test , Y_train , Y_test = train_test_split(data['content'],data['label'],test_size = 0.25)"
      ],
      "execution_count": 16,
      "outputs": []
    },
    {
      "cell_type": "code",
      "metadata": {
        "id": "BiE_l5y3T2SX"
      },
      "source": [
        "vectorizer = CountVectorizer()\n",
        "countvectorizerXtrain = vectorizer.fit_transform(X_train)\n",
        "countvectorizerXtest  = vectorizer.transform(X_test)"
      ],
      "execution_count": 17,
      "outputs": []
    },
    {
      "cell_type": "code",
      "metadata": {
        "id": "fapwh6kDVNCA",
        "colab": {
          "base_uri": "https://localhost:8080/"
        },
        "outputId": "f94bbb55-d6ec-4682-b424-19720a89a942"
      },
      "source": [
        "classifier = LogisticRegression()\n",
        "classifier.fit(countvectorizerXtrain, Y_train)\n",
        "score = classifier.score(countvectorizerXtest, Y_test)\n",
        "print(\"Accuracy:\", score)"
      ],
      "execution_count": 18,
      "outputs": [
        {
          "output_type": "stream",
          "text": [
            "Accuracy: 0.9820531227566404\n"
          ],
          "name": "stdout"
        }
      ]
    },
    {
      "cell_type": "code",
      "metadata": {
        "id": "ZDtP1srTViM-"
      },
      "source": [
        "new_text = 'hi we are from exceer company we like to introduce you to a great feature !'"
      ],
      "execution_count": 19,
      "outputs": []
    },
    {
      "cell_type": "code",
      "metadata": {
        "id": "JaGpFnMeMykR"
      },
      "source": [
        "new_example = vectorizer.transform([new_text])"
      ],
      "execution_count": 20,
      "outputs": []
    },
    {
      "cell_type": "code",
      "metadata": {
        "colab": {
          "base_uri": "https://localhost:8080/"
        },
        "id": "vk7qgqhxM3lh",
        "outputId": "da265582-ff04-40dc-9c4c-b49d97d9e4c4"
      },
      "source": [
        "classifier.predict(new_example)\n"
      ],
      "execution_count": 21,
      "outputs": [
        {
          "output_type": "execute_result",
          "data": {
            "text/plain": [
              "array(['ham'], dtype=object)"
            ]
          },
          "metadata": {
            "tags": []
          },
          "execution_count": 21
        }
      ]
    },
    {
      "cell_type": "code",
      "metadata": {
        "id": "BAPJiEjaM-Gt"
      },
      "source": [
        ""
      ],
      "execution_count": null,
      "outputs": []
    }
  ]
}